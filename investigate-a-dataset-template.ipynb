{
 "cells": [
  {
   "cell_type": "markdown",
   "metadata": {},
   "source": [
    "# Project: Investigate a Dataset (Replace this with something more specific!)\n",
    "\n",
    "## Table of Contents\n",
    "<ul>\n",
    "<li><a href=\"#intro\">Introduction</a></li>\n",
    "<li><a href=\"#wrangling\">Data Wrangling</a></li>\n",
    "<li><a href=\"#eda\">Exploratory Data Analysis</a></li>\n",
    "<li><a href=\"#conclusions\">Conclusions</a></li>\n",
    "</ul>"
   ]
  },
  {
   "cell_type": "markdown",
   "metadata": {},
   "source": [
    "<a id='intro'></a>\n",
    "## Introduction\n",
    "\n",
    "> **Tip**: In this section of the report, provide a brief introduction to the dataset you've selected for analysis. At the end of this section, describe the questions that you plan on exploring over the course of the report. Try to build your report around the analysis of at least one dependent variable and three independent variables.\n",
    ">\n",
    "> If you haven't yet selected and downloaded your data, make sure you do that first before coming back here. If you're not sure what questions to ask right now, then make sure you familiarize yourself with the variables and the dataset context for ideas of what to explore."
   ]
  },
  {
   "cell_type": "code",
   "execution_count": 24,
   "metadata": {},
   "outputs": [],
   "source": [
    "import pandas as pd\n",
    "import numpy as np\n",
    "import matplotlib.pyplot as plt\n",
    "import seaborn as sns\n",
    "%matplotlib inline\n",
    "sns.set_style(\"darkgrid\")"
   ]
  },
  {
   "cell_type": "markdown",
   "metadata": {},
   "source": [
    "<a id='wrangling'></a>\n",
    "## Data Wrangling\n",
    "\n",
    "> **Tip**: In this section of the report, you will load in the data, check for cleanliness, and then trim and clean your dataset for analysis. Make sure that you document your steps carefully and justify your cleaning decisions.\n",
    "\n",
    "### General Properties"
   ]
  },
  {
   "cell_type": "code",
   "execution_count": 128,
   "metadata": {},
   "outputs": [],
   "source": [
    "# Load your data and print out a few lines. Perform operations to inspect data\n",
    "#   types and look for instances of missing or possibly errant data.\n",
    "df_nics = pd.read_excel('gun_data.xlsx')\n",
    "df_census = pd.read_csv('U.S. Census Data.csv')"
   ]
  },
  {
   "cell_type": "markdown",
   "metadata": {},
   "source": [
    "The data comes from the FBI's National Instant Criminal Background Check System. The NICS is used to determine whether a prospective buyer is eligible to buy firearms or explosives. Gun shops call into this system to ensure that each customer does not have a criminal record or isn’t otherwise ineligible to make a purchase. The data has been supplemented with state level data from census.gov.\n",
    "\n",
    "The NICS data is found in one sheet of an .xlsx file. \n",
    "The U.S. census data is found in a .csv file. \n",
    "https://github.com/BuzzFeedNews/nics-firearm-background-checks/blob/master/README.md\n",
    "Other (column) = Refers to frames, receivers and other firearms that are not either handguns or long guns (rifles or shotguns), such as firearms having a pistol grip that expel a shotgun shell\n",
    "Multiple (column) = Multiple (multiple types of firearms selected)\n",
    "DISCLAIMERS:\n",
    "Some states may reflect lower than expected numbers for handgun checks based on varying state laws pertaining to handgun permits. Since the permit check is done in place of the NICS check in most of the affected states, the low handgun statistics are often balanced out by a higher number of handgun permit checks\n",
    "\n",
    "##### df_gun\n",
    "- Contains the number of firearm checks by month, state, and type.\n",
    "- 12,485 rows, 27 columns\n",
    "- Majority of columns contain null values.\n",
    "- Columns without null values: month, state, multiple, totals\n",
    "- 0 duplicate rows\n",
    "- month and state columns are strings, mutiple and totals columns are integers, remaining columns are floats\n",
    "\n",
    "##### df_census\n",
    "- Contains several variables at the state level. Most variables just have one data point per state (2016), but a few have data for more than one year.\n",
    "- 85 rows, 52 columns (one column for each state plus a fact and fact note column)\n",
    "- 3 duplicate rows - all columns contain null values\n",
    "- All columns are strings, but values are floats, integers, or percentages"
   ]
  },
  {
   "cell_type": "code",
   "execution_count": 129,
   "metadata": {},
   "outputs": [],
   "source": [
    "#display(df_nics.shape)\n",
    "#display(df_nics.info())\n",
    "#df_nics.head()"
   ]
  },
  {
   "cell_type": "code",
   "execution_count": 130,
   "metadata": {},
   "outputs": [],
   "source": [
    "#display(df_census.shape)\n",
    "#display(df_census.info())\n",
    "#df_census.head()"
   ]
  },
  {
   "cell_type": "markdown",
   "metadata": {},
   "source": [
    "> **Tip**: You should _not_ perform too many operations in each cell. Create cells freely to explore your data. One option that you can take with this project is to do a lot of explorations in an initial notebook. These don't have to be organized, but make sure you use enough comments to understand the purpose of each code cell. Then, after you're done with your analysis, create a duplicate notebook where you will trim the excess and organize your steps so that you have a flowing, cohesive report.\n",
    "\n",
    "> **Tip**: Make sure that you keep your reader informed on the steps that you are taking in your investigation. Follow every code cell, or every set of related code cells, with a markdown cell to describe to the reader what was found in the preceding cell(s). Try to make it so that the reader can then understand what they will be seeing in the following cell(s).\n",
    "\n",
    "### Data Cleaning (Replace this with more specific notes!)"
   ]
  },
  {
   "cell_type": "markdown",
   "metadata": {},
   "source": [
    "##### NICS data\n",
    "1. Remove state values that do not appear in the columns of the census data ('District of Columbia', 'Guam', 'Mariana Islands', 'Puerto Rico','Virgin Islands')\n",
    "2. Check that the month and state columns did not have null values\n",
    "3. Filled null values with 0.0\n",
    "4. turned all float columns to integers, for consistency\n",
    "5. Creates a year column\n",
    "6. Remove unnecessary columns based - based on information from http://www.smallarmssurvey.org/fileadmin/docs/F-Working-papers/SAS-WP14-US-Firearms-Industry.pdf "
   ]
  },
  {
   "cell_type": "code",
   "execution_count": null,
   "metadata": {},
   "outputs": [],
   "source": []
  },
  {
   "cell_type": "code",
   "execution_count": 131,
   "metadata": {},
   "outputs": [
    {
     "name": "stdout",
     "output_type": "stream",
     "text": [
      "Rows removed:  1135\n"
     ]
    }
   ],
   "source": [
    "original = df_nics.shape[0]\n",
    "#replace NAs with 0s\n",
    "df_nics.fillna(0.0,inplace=True)\n",
    "\n",
    "df_nics['handgun_totals'] = (df_nics.handgun + df_nics.prepawn_handgun + \n",
    "                             df_nics.redemption_handgun + df_nics.returned_handgun + df_nics.rentals_handgun + \n",
    "                             df_nics.private_sale_handgun + df_nics.return_to_seller_handgun)\n",
    "df_nics['long_gun_totals'] = (df_nics.long_gun + df_nics.prepawn_long_gun + df_nics.redemption_long_gun + \n",
    "                              df_nics.returned_long_gun + df_nics.rentals_long_gun + df_nics.private_sale_long_gun + \n",
    "                              df_nics.return_to_seller_long_gun)\n",
    "\n",
    "#remove columns that are not relevant\n",
    "keep_cols = ['month', 'state', 'multiple', 'handgun_totals', 'long_gun_totals']\n",
    "remove=[]\n",
    "for col in list(df_nics.columns):\n",
    "    if not col in keep_cols:\n",
    "        remove.append(col)\n",
    "df_nics.drop(remove, axis=1, inplace=True)\n",
    "\n",
    "#new columns\n",
    "df_nics['all_totals'] = df_nics.handgun_totals + df_nics.long_gun_totals + df_nics.multiple\n",
    "df_nics['sales_estimate'] = 1.1 * (df_nics.handgun_totals + df_nics.long_gun_totals + df_nics.multiple * 2) #MGSF\n",
    "\n",
    "#filter df_gun to only values that could be tied to the columns of the census data\n",
    "state_list = list(df_census.columns[2:]) #list of states from census columns\n",
    "remove_vals = df_nics.query('not state in {}'.format(state_list))\n",
    "df_nics.drop(remove_vals.index, inplace=True)\n",
    "\n",
    "#turn all columns to integers for consistency\n",
    "for col in df_nics.columns[2:]:\n",
    "    df_nics[col] = df_nics[col].astype(int)\n",
    "\n",
    "#display(removed.state.unique())\n",
    "print('Rows removed: ', str(original - df_nics.shape[0]))\n",
    "\n",
    "df_nics.reset_index(inplace=True, drop=True)    \n",
    "df_nics['year'] = df_nics['month'].apply(lambda x: x[:4])\n",
    "df_nics = df_nics.query('not year in {}'.format(['1998', '2017']))"
   ]
  },
  {
   "cell_type": "markdown",
   "metadata": {},
   "source": [
    "##### Census data\n",
    "Steps:\n",
    "1. Remove duplicates / null rows\n",
    "2. Remove rows with all null values\n",
    "3. Turn columns of each state into floats from strings\n",
    "4. Creates a year column"
   ]
  },
  {
   "cell_type": "code",
   "execution_count": 132,
   "metadata": {},
   "outputs": [
    {
     "data": {
      "text/html": [
       "<div>\n",
       "<style scoped>\n",
       "    .dataframe tbody tr th:only-of-type {\n",
       "        vertical-align: middle;\n",
       "    }\n",
       "\n",
       "    .dataframe tbody tr th {\n",
       "        vertical-align: top;\n",
       "    }\n",
       "\n",
       "    .dataframe thead th {\n",
       "        text-align: right;\n",
       "    }\n",
       "</style>\n",
       "<table border=\"1\" class=\"dataframe\">\n",
       "  <thead>\n",
       "    <tr style=\"text-align: right;\">\n",
       "      <th>Fact</th>\n",
       "      <th>Population estimates, July 1, 2016,  (V2016)</th>\n",
       "      <th>Population estimates base, April 1, 2010,  (V2016)</th>\n",
       "      <th>Population, percent change - April 1, 2010 (estimates base) to July 1, 2016,  (V2016)</th>\n",
       "      <th>Population, Census, April 1, 2010</th>\n",
       "      <th>Persons under 5 years, percent, July 1, 2016,  (V2016)</th>\n",
       "      <th>Persons under 5 years, percent, April 1, 2010</th>\n",
       "      <th>Persons under 18 years, percent, July 1, 2016,  (V2016)</th>\n",
       "      <th>Persons under 18 years, percent, April 1, 2010</th>\n",
       "      <th>Persons 65 years and over, percent,  July 1, 2016,  (V2016)</th>\n",
       "      <th>Persons 65 years and over, percent, April 1, 2010</th>\n",
       "      <th>...</th>\n",
       "      <th>Total nonemployer establishments, 2015</th>\n",
       "      <th>All firms, 2012</th>\n",
       "      <th>Men-owned firms, 2012</th>\n",
       "      <th>Women-owned firms, 2012</th>\n",
       "      <th>Minority-owned firms, 2012</th>\n",
       "      <th>Nonminority-owned firms, 2012</th>\n",
       "      <th>Veteran-owned firms, 2012</th>\n",
       "      <th>Nonveteran-owned firms, 2012</th>\n",
       "      <th>Population per square mile, 2010</th>\n",
       "      <th>Land area in square miles, 2010</th>\n",
       "    </tr>\n",
       "  </thead>\n",
       "  <tbody>\n",
       "    <tr>\n",
       "      <th>Alabama</th>\n",
       "      <td>4,863,300</td>\n",
       "      <td>4,780,131</td>\n",
       "      <td>1.70%</td>\n",
       "      <td>4,779,736</td>\n",
       "      <td>6.00%</td>\n",
       "      <td>6.40%</td>\n",
       "      <td>22.60%</td>\n",
       "      <td>23.70%</td>\n",
       "      <td>16.10%</td>\n",
       "      <td>13.80%</td>\n",
       "      <td>...</td>\n",
       "      <td>322,025</td>\n",
       "      <td>374,153</td>\n",
       "      <td>203,604</td>\n",
       "      <td>137,630</td>\n",
       "      <td>92,219</td>\n",
       "      <td>272,651</td>\n",
       "      <td>41,943</td>\n",
       "      <td>316,984</td>\n",
       "      <td>94.4</td>\n",
       "      <td>50,645.33</td>\n",
       "    </tr>\n",
       "  </tbody>\n",
       "</table>\n",
       "<p>1 rows × 64 columns</p>\n",
       "</div>"
      ],
      "text/plain": [
       "Fact    Population estimates, July 1, 2016,  (V2016)  \\\n",
       "Alabama                                    4,863,300   \n",
       "\n",
       "Fact    Population estimates base, April 1, 2010,  (V2016)  \\\n",
       "Alabama                                          4,780,131   \n",
       "\n",
       "Fact    Population, percent change - April 1, 2010 (estimates base) to July 1, 2016,  (V2016)  \\\n",
       "Alabama                                              1.70%                                      \n",
       "\n",
       "Fact    Population, Census, April 1, 2010  \\\n",
       "Alabama                         4,779,736   \n",
       "\n",
       "Fact    Persons under 5 years, percent, July 1, 2016,  (V2016)  \\\n",
       "Alabama                                              6.00%       \n",
       "\n",
       "Fact    Persons under 5 years, percent, April 1, 2010  \\\n",
       "Alabama                                         6.40%   \n",
       "\n",
       "Fact    Persons under 18 years, percent, July 1, 2016,  (V2016)  \\\n",
       "Alabama                                             22.60%        \n",
       "\n",
       "Fact    Persons under 18 years, percent, April 1, 2010  \\\n",
       "Alabama                                         23.70%   \n",
       "\n",
       "Fact    Persons 65 years and over, percent,  July 1, 2016,  (V2016)  \\\n",
       "Alabama                                             16.10%            \n",
       "\n",
       "Fact    Persons 65 years and over, percent, April 1, 2010  \\\n",
       "Alabama                                            13.80%   \n",
       "\n",
       "Fact                  ...                \\\n",
       "Alabama               ...                 \n",
       "\n",
       "Fact    Total nonemployer establishments, 2015 All firms, 2012  \\\n",
       "Alabama                                322,025         374,153   \n",
       "\n",
       "Fact    Men-owned firms, 2012 Women-owned firms, 2012  \\\n",
       "Alabama               203,604                 137,630   \n",
       "\n",
       "Fact    Minority-owned firms, 2012 Nonminority-owned firms, 2012  \\\n",
       "Alabama                     92,219                       272,651   \n",
       "\n",
       "Fact    Veteran-owned firms, 2012 Nonveteran-owned firms, 2012  \\\n",
       "Alabama                    41,943                      316,984   \n",
       "\n",
       "Fact    Population per square mile, 2010 Land area in square miles, 2010  \n",
       "Alabama                             94.4                       50,645.33  \n",
       "\n",
       "[1 rows x 64 columns]"
      ]
     },
     "execution_count": 132,
     "metadata": {},
     "output_type": "execute_result"
    }
   ],
   "source": [
    "#identifies and removes extra rows of information that include notes \n",
    "df_census_extra = df_census.iloc[64:,:] \n",
    "df_census.drop(df_census_extra.index,inplace=True)\n",
    "\n",
    "census_t = df_census.transpose(copy=True)\n",
    "census_t.head()\n",
    "headers = census_t.iloc[0,:]\n",
    "census_t.columns = headers\n",
    "\n",
    "census_t.drop_duplicates(inplace=True)\n",
    "census_t.drop(['Fact', 'Fact Note'],axis=0,inplace=True)\n",
    "census_t.fillna(\"0\",inplace=True)\n",
    "census_t.head(1)"
   ]
  },
  {
   "cell_type": "code",
   "execution_count": 133,
   "metadata": {},
   "outputs": [],
   "source": [
    "val_flags = ['-','D','F','FN','NA','S','X','Z'] #value flags found in bottom of data.\n",
    "census_t.replace(to_replace=val_flags, value=\"0\", inplace=True) #replace all value flags with 0\n",
    "\n",
    "for col in census_t.columns:\n",
    "    #first, if a value in a column has  a % sign, remove it and divide it by 100, else remove all commas and $\n",
    "    census_t[col] = census_t[col].apply(lambda x: x.replace(',','').replace('$','').replace('%',''))\n",
    "    census_t[col] = census_t[col].astype(float) #turn all state columns to floats\n"
   ]
  },
  {
   "cell_type": "code",
   "execution_count": 134,
   "metadata": {},
   "outputs": [],
   "source": [
    "census_t['employment%_2015'] = census_t['Total employment, 2015'] / census_t['Population estimates, July 1, 2016,  (V2016)']\n",
    "\n",
    "census_t['veterans%_2015'] = census_t['Veterans, 2011-2015'] / census_t['Population estimates, July 1, 2016,  (V2016)']\n",
    "\n",
    "keep_dict = {'Population estimates, July 1, 2016,  (V2016)': 'population_2016',\n",
    "             'Population estimates base, April 1, 2010,  (V2016)': 'population_2010',\n",
    "             'Persons 65 years and over, percent,  July 1, 2016,  (V2016)': '65+%_2016',\n",
    "             'High school graduate or higher, percent of persons age 25 years+, 2011-2015': 'highschool+%_2015',\n",
    "             \"Bachelor's degree or higher, percent of persons age 25 years+, 2011-2015\": 'bachelors+%_2015',\n",
    "             'Median household income (in 2015 dollars), 2011-2015': 'median_income_2015',\n",
    "             'Population per square mile, 2010': 'pop_per_sqmile_2010',\n",
    "             'employment%_2015': 'employment%_2015',\n",
    "             'veterans%_2015': 'veterans%_2015'}\n",
    "\n",
    "remove_cols = []\n",
    "for col in list(census_t.columns):\n",
    "    if not col in list(keep_dict.keys()):\n",
    "        remove_cols.append(col)\n",
    "        \n",
    "census_t.drop(remove_cols, axis=1, inplace=True)\n",
    "\n",
    "census_t.rename(columns=keep_dict, inplace=True)\n",
    "\n",
    "#fact notes found at the bottom of the data\n",
    "#notes = {'(a)':'Includes persons reporting only one race', \n",
    "         #'(b)':'Hispanics may be of any race, so also are included in applicable race categories', \n",
    "         #'(c)':'Economic Census - Puerto Rico data are not comparable to U.S. Economic Census data'}\n",
    "\n",
    "#replace the keys from the notes dict with their values within the Fact Note column\n",
    "#census_t['Fact Note'].replace(notes, inplace=True)\n",
    "\n"
   ]
  },
  {
   "cell_type": "code",
   "execution_count": 135,
   "metadata": {},
   "outputs": [
    {
     "data": {
      "text/html": [
       "<div>\n",
       "<style scoped>\n",
       "    .dataframe tbody tr th:only-of-type {\n",
       "        vertical-align: middle;\n",
       "    }\n",
       "\n",
       "    .dataframe tbody tr th {\n",
       "        vertical-align: top;\n",
       "    }\n",
       "\n",
       "    .dataframe thead th {\n",
       "        text-align: right;\n",
       "    }\n",
       "</style>\n",
       "<table border=\"1\" class=\"dataframe\">\n",
       "  <thead>\n",
       "    <tr style=\"text-align: right;\">\n",
       "      <th>Fact</th>\n",
       "      <th>population_2016</th>\n",
       "      <th>population_2010</th>\n",
       "      <th>65+%_2016</th>\n",
       "      <th>highschool+%_2015</th>\n",
       "      <th>bachelors+%_2015</th>\n",
       "      <th>median_income_2015</th>\n",
       "      <th>pop_per_sqmile_2010</th>\n",
       "      <th>employment%_2015</th>\n",
       "      <th>veterans%_2015</th>\n",
       "    </tr>\n",
       "  </thead>\n",
       "  <tbody>\n",
       "    <tr>\n",
       "      <th>Alabama</th>\n",
       "      <td>4863300.0</td>\n",
       "      <td>4780131.0</td>\n",
       "      <td>16.1</td>\n",
       "      <td>84.3</td>\n",
       "      <td>23.5</td>\n",
       "      <td>43623.0</td>\n",
       "      <td>94.4</td>\n",
       "      <td>0.336066</td>\n",
       "      <td>0.074676</td>\n",
       "    </tr>\n",
       "    <tr>\n",
       "      <th>Alaska</th>\n",
       "      <td>741894.0</td>\n",
       "      <td>710249.0</td>\n",
       "      <td>10.4</td>\n",
       "      <td>92.1</td>\n",
       "      <td>28.0</td>\n",
       "      <td>72515.0</td>\n",
       "      <td>1.2</td>\n",
       "      <td>0.361236</td>\n",
       "      <td>0.093441</td>\n",
       "    </tr>\n",
       "    <tr>\n",
       "      <th>Arizona</th>\n",
       "      <td>6931071.0</td>\n",
       "      <td>6392301.0</td>\n",
       "      <td>16.9</td>\n",
       "      <td>86.0</td>\n",
       "      <td>27.5</td>\n",
       "      <td>50255.0</td>\n",
       "      <td>56.3</td>\n",
       "      <td>0.331144</td>\n",
       "      <td>0.072975</td>\n",
       "    </tr>\n",
       "    <tr>\n",
       "      <th>Arkansas</th>\n",
       "      <td>2988248.0</td>\n",
       "      <td>2916025.0</td>\n",
       "      <td>16.3</td>\n",
       "      <td>84.8</td>\n",
       "      <td>21.1</td>\n",
       "      <td>41371.0</td>\n",
       "      <td>56.0</td>\n",
       "      <td>0.335686</td>\n",
       "      <td>0.073941</td>\n",
       "    </tr>\n",
       "    <tr>\n",
       "      <th>California</th>\n",
       "      <td>39250017.0</td>\n",
       "      <td>37254522.0</td>\n",
       "      <td>13.6</td>\n",
       "      <td>81.8</td>\n",
       "      <td>31.4</td>\n",
       "      <td>61818.0</td>\n",
       "      <td>239.1</td>\n",
       "      <td>0.364978</td>\n",
       "      <td>0.045284</td>\n",
       "    </tr>\n",
       "  </tbody>\n",
       "</table>\n",
       "</div>"
      ],
      "text/plain": [
       "Fact        population_2016  population_2010  65+%_2016  highschool+%_2015  \\\n",
       "Alabama           4863300.0        4780131.0       16.1               84.3   \n",
       "Alaska             741894.0         710249.0       10.4               92.1   \n",
       "Arizona           6931071.0        6392301.0       16.9               86.0   \n",
       "Arkansas          2988248.0        2916025.0       16.3               84.8   \n",
       "California       39250017.0       37254522.0       13.6               81.8   \n",
       "\n",
       "Fact        bachelors+%_2015  median_income_2015  pop_per_sqmile_2010  \\\n",
       "Alabama                 23.5             43623.0                 94.4   \n",
       "Alaska                  28.0             72515.0                  1.2   \n",
       "Arizona                 27.5             50255.0                 56.3   \n",
       "Arkansas                21.1             41371.0                 56.0   \n",
       "California              31.4             61818.0                239.1   \n",
       "\n",
       "Fact        employment%_2015  veterans%_2015  \n",
       "Alabama             0.336066        0.074676  \n",
       "Alaska              0.361236        0.093441  \n",
       "Arizona             0.331144        0.072975  \n",
       "Arkansas            0.335686        0.073941  \n",
       "California          0.364978        0.045284  "
      ]
     },
     "execution_count": 135,
     "metadata": {},
     "output_type": "execute_result"
    }
   ],
   "source": [
    "census_t.head()"
   ]
  },
  {
   "cell_type": "code",
   "execution_count": 136,
   "metadata": {},
   "outputs": [],
   "source": [
    "#extracts the year from the month column and creates a year column\n",
    "\n",
    "#min_year = int(df_nics.year.unique().min())\n",
    "#max_year = int(df_nics.year.unique().max())\n",
    "#year_list = list(range(max_year, min_year-1, -1))\n",
    "\n",
    "#display(df_nics.info())\n",
    "\n",
    "#extracts the highest year in the Fact row and creates a year column\n",
    "#df_census['year']= 0\n",
    "#for i, v in df_census['Fact'].items():\n",
    "    #for year in year_list:\n",
    "        #if str(year) in v:\n",
    "            #df_census.loc[i, 'year'] = year\n",
    "            \n",
    "#df_census.info()\n",
    "\n",
    "# After discussing the structure of the data and any problems that need to be\n",
    "#   cleaned, perform those cleaning steps in the second part of this section."
   ]
  },
  {
   "cell_type": "markdown",
   "metadata": {},
   "source": [
    "<a id='eda'></a>\n",
    "## Exploratory Data Analysis\n",
    "\n",
    "> **Tip**: Now that you've trimmed and cleaned your data, you're ready to move on to exploration. Compute statistics and create visualizations with the goal of addressing the research questions that you posed in the Introduction section. It is recommended that you be systematic with your approach. Look at one variable at a time, and then follow it up by looking at relationships between variables.\n",
    "\n",
    "\n",
    "\n",
    "### How have guns sales changed over time?"
   ]
  },
  {
   "cell_type": "code",
   "execution_count": 156,
   "metadata": {},
   "outputs": [
    {
     "data": {
      "text/plain": [
       "0      87515040\n",
       "1      78732060\n",
       "2      81408260\n",
       "3      77123610\n",
       "4      77212180\n",
       "5      80035870\n",
       "6      83639090\n",
       "7      88374610\n",
       "8      92080850\n",
       "9     100750820\n",
       "10    107027320\n",
       "11    105019740\n",
       "12    120068200\n",
       "13    152048250\n",
       "14    162792730\n",
       "15    143247820\n",
       "16    155412620\n",
       "17    169577880\n",
       "Name: sales_estimate, dtype: int64"
      ]
     },
     "execution_count": 156,
     "metadata": {},
     "output_type": "execute_result"
    }
   ],
   "source": [
    "nics_year= df_nics.groupby(['year'], as_index=False).sum()\n",
    "\n",
    "nics_month = df_nics.groupby(['month'], as_index=False).sum()\n",
    "\n",
    "nics_state = df_nics.groupby(['state'], as_index=False, sort=False).sum().sort_values(by='sales_estimate', ascending=False)\n",
    "\n"
   ]
  },
  {
   "cell_type": "code",
   "execution_count": 159,
   "metadata": {},
   "outputs": [
    {
     "data": {
      "image/png": "[encoded data removed]",
      "text/plain": [
       "<Figure size 1080x360 with 1 Axes>"
      ]
     },
     "metadata": {},
     "output_type": "display_data"
    }
   ],
   "source": [
    "f, (ax1) = plt.subplots(1,1, figsize=(15,5))\n",
    "\n",
    "ax1.plot(nics_year.year, nics_year.sales_estimate/1000000) #estimates in millions\n",
    "ax1.set_ylabel('Estimated Guns Sold (Millions)', fontsize=14)\n",
    "ax1.set_title('US Gun Sales Over Time', fontsize=16);\n"
   ]
  },
  {
   "cell_type": "markdown",
   "metadata": {},
   "source": [
    "### What are the top 5 state in guns per capita? And how has this changed over time?"
   ]
  },
  {
   "cell_type": "code",
   "execution_count": 139,
   "metadata": {},
   "outputs": [],
   "source": [
    "nics_year_state = df_nics.groupby(['year','state'], as_index=False, sort=False).sum()"
   ]
  },
  {
   "cell_type": "code",
   "execution_count": 140,
   "metadata": {},
   "outputs": [],
   "source": [
    "def create_merge(year):\n",
    "    \n",
    "    merged = nics_year_state.query('year == \"{}\"'.format(year)).merge(census_t, how=\"inner\", left_on='state', right_index=True).drop('year',axis=1)\n",
    "    merged['sold_per_capita'] = merged.sales_estimate / merged['population_{}'.format(year)]\n",
    "    merged.sort_values('sold_per_capita', ascending=False, inplace=True)\n",
    "    merged.reset_index(drop=True, inplace=True)\n",
    "    \n",
    "    return merged\n",
    "\n",
    "merged_2016 = create_merge('2016')\n",
    "merged_2010 = create_merge('2010')\n"
   ]
  },
  {
   "cell_type": "code",
   "execution_count": 141,
   "metadata": {},
   "outputs": [
    {
     "data": {
      "image/png": "[encoded data removed]",
      "text/plain": [
       "<Figure size 1080x360 with 2 Axes>"
      ]
     },
     "metadata": {},
     "output_type": "display_data"
    }
   ],
   "source": [
    "f, (ax1, ax2) = plt.subplots(1,2, figsize=(15,5))\n",
    "\n",
    "ax1.bar(merged_2016.state[:5], merged_2016.sold_per_capita[:5]) #top 5\n",
    "ax1.set_xlabel('States', fontsize=14)\n",
    "ax1.set_ylabel('Estimated Guns Sold per Capita', fontsize=14)\n",
    "ax1.set_title('States with the highest Guns Sold per Capita (2016)', fontsize=16)\n",
    "\n",
    "ax2.bar(merged_2010.state[:5], merged_2010.sold_per_capita[:5]) #top 5\n",
    "ax2.set_xlabel('States', fontsize=14)\n",
    "ax2.set_ylabel('Estimated Guns Sold per Capita', fontsize=14)\n",
    "ax2.set_title('States with the highest Guns Sold per Capita (2010)', fontsize=16);"
   ]
  },
  {
   "cell_type": "markdown",
   "metadata": {},
   "source": [
    "### Which states have had the highest growth in guns sold from 2010-2016, per capita?"
   ]
  },
  {
   "cell_type": "code",
   "execution_count": 144,
   "metadata": {},
   "outputs": [],
   "source": [
    "merged_2016['sales_chg_10to16'] = (merged_2016.sales_estimate - merged_2010.sales_estimate) / merged_2016.population_2010\n",
    "\n",
    "sorted_merge = merged_2016.sort_values(by='sales_chg_10to16', ascending=False)\n"
   ]
  },
  {
   "cell_type": "code",
   "execution_count": 145,
   "metadata": {},
   "outputs": [
    {
     "data": {
      "image/png": "[encoded data removed]",
      "text/plain": [
       "<Figure size 720x360 with 1 Axes>"
      ]
     },
     "metadata": {},
     "output_type": "display_data"
    }
   ],
   "source": [
    "f, (ax1) = plt.subplots(1,1, figsize=(10,5))\n",
    "\n",
    "ax1.bar(sorted_merge.state[:5], sorted_merge.sales_chg_10to16[:5]) #top 5\n",
    "ax1.set_xlabel('States', fontsize=14)\n",
    "ax1.set_ylabel('Change in Guns Sold per Capita', fontsize=14)\n",
    "ax1.set_title('States with the highest changed in guns sold per capita (2010-2016)', fontsize=16);"
   ]
  },
  {
   "cell_type": "markdown",
   "metadata": {},
   "source": [
    "### What census data is most associated with high gun per capita? "
   ]
  },
  {
   "cell_type": "code",
   "execution_count": null,
   "metadata": {
    "collapsed": true
   },
   "outputs": [],
   "source": [
    "# Use this, and more code cells, to explore your data. Don't forget to add\n",
    "#   Markdown cells to document your observations and findings.\n",
    "\n"
   ]
  },
  {
   "cell_type": "markdown",
   "metadata": {},
   "source": [
    "### gg "
   ]
  },
  {
   "cell_type": "code",
   "execution_count": null,
   "metadata": {
    "collapsed": true
   },
   "outputs": [],
   "source": [
    "# Continue to explore the data to address your additional research\n",
    "#   questions. Add more headers as needed if you have more questions to\n",
    "#   investigate.\n"
   ]
  },
  {
   "cell_type": "markdown",
   "metadata": {},
   "source": [
    "### What is the overall trend of gun purchases?"
   ]
  },
  {
   "cell_type": "code",
   "execution_count": null,
   "metadata": {},
   "outputs": [],
   "source": []
  },
  {
   "cell_type": "markdown",
   "metadata": {},
   "source": [
    "<a id='conclusions'></a>\n",
    "## Conclusions\n",
    "\n",
    "> **Tip**: Finally, summarize your findings and the results that have been performed. Make sure that you are clear with regards to the limitations of your exploration. If you haven't done any statistical tests, do not imply any statistical conclusions. And make sure you avoid implying causation from correlation!\n",
    "\n",
    "> **Tip**: Once you are satisfied with your work, you should save a copy of the report in HTML or PDF form via the **File** > **Download as** submenu. Before exporting your report, check over it to make sure that the flow of the report is complete. You should probably remove all of the \"Tip\" quotes like this one so that the presentation is as tidy as possible. Congratulations!"
   ]
  },
  {
   "cell_type": "code",
   "execution_count": null,
   "metadata": {
    "collapsed": true
   },
   "outputs": [],
   "source": []
  }
 ],
 "metadata": {
  "kernelspec": {
   "display_name": "Python 3",
   "language": "python",
   "name": "python3"
  },
  "language_info": {
   "codemirror_mode": {
    "name": "ipython",
    "version": 3
   },
   "file_extension": ".py",
   "mimetype": "text/x-python",
   "name": "python",
   "nbconvert_exporter": "python",
   "pygments_lexer": "ipython3",
   "version": "3.7.0"
  }
 },
 "nbformat": 4,
 "nbformat_minor": 2
}
